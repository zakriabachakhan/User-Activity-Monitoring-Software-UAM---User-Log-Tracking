{
 "cells": [
  {
   "cell_type": "code",
   "execution_count": 26,
   "metadata": {},
   "outputs": [
    {
     "name": "stderr",
     "output_type": "stream",
     "text": [
      "[nltk_data] Downloading package stopwords to\n",
      "[nltk_data]     C:\\Users\\Admin\\AppData\\Roaming\\nltk_data...\n",
      "[nltk_data]   Package stopwords is already up-to-date!\n"
     ]
    },
    {
     "data": {
      "text/plain": [
       "True"
      ]
     },
     "execution_count": 26,
     "metadata": {},
     "output_type": "execute_result"
    }
   ],
   "source": [
    "# Cell 1: Import Libraries\n",
    "import numpy as np\n",
    "import pandas as pd\n",
    "import nltk\n",
    "import string\n",
    "from nltk.corpus import stopwords\n",
    "from sklearn.feature_extraction.text import CountVectorizer, TfidfTransformer\n",
    "from sklearn.model_selection import train_test_split\n",
    "from sklearn.naive_bayes import MultinomialNB\n",
    "from sklearn.metrics import accuracy_score\n",
    "# Download necessary NLTK data\n",
    "nltk.download('stopwords')\n"
   ]
  },
  {
   "cell_type": "code",
   "execution_count": 27,
   "metadata": {},
   "outputs": [],
   "source": [
    "# Cell 2: Load Dataset\n",
    "df = pd.read_csv('software_requirements_extended.csv')"
   ]
  },
  {
   "cell_type": "code",
   "execution_count": 28,
   "metadata": {},
   "outputs": [],
   "source": [
    "# Cell 3: Text Cleaning in Simple Lines\n",
    "# Prepare stopwords\n",
    "stop_words = set(stopwords.words('english'))\n",
    "\n",
    "# Remove punctuation and stopwords from the 'Requirement' column directly\n",
    "df['cleaned_requirement'] = df['Requirement'].apply(\n",
    "    lambda text: ' '.join([word for word in ''.join([char for char in text if char not in string.punctuation]).split() if word.lower() not in stop_words])\n",
    ")\n"
   ]
  },
  {
   "cell_type": "code",
   "execution_count": 29,
   "metadata": {},
   "outputs": [],
   "source": [
    "\n",
    "# Cell 4: Split data into training and testing sets\n",
    "X_train, X_test, y_train, y_test = train_test_split(df['cleaned_requirement'], df['Type'], test_size=0.2, random_state=45)\n",
    "            \n"
   ]
  },
  {
   "cell_type": "code",
   "execution_count": 30,
   "metadata": {},
   "outputs": [],
   "source": [
    "# Cell 05 \n",
    "# Create a CountVectorizer to convert words into numeric values\n",
    "bow_transformer = CountVectorizer().fit(X_train)\n",
    "\n",
    "# Transform the training data into bag-of-words representation\n",
    "X_train_bow = bow_transformer.transform(X_train)\n",
    "\n",
    "# Transform the testing data into bag-of-words representation\n",
    "X_test_bow = bow_transformer.transform(X_test)\n"
   ]
  },
  {
   "cell_type": "code",
   "execution_count": 31,
   "metadata": {},
   "outputs": [],
   "source": [
    "# Cell 06 # Use TF-IDF transformer to convert bag-of-words to TF-IDF representation\n",
    "tfidf_transformer = TfidfTransformer()\n",
    "X_train_tfidf = tfidf_transformer.fit_transform(X_train_bow)\n",
    "X_test_tfidf = tfidf_transformer.transform(X_test_bow)  # Make sure this line is present\n"
   ]
  },
  {
   "cell_type": "code",
   "execution_count": 32,
   "metadata": {},
   "outputs": [],
   "source": [
    "# Cell 07  Train the Naive Bayes model on training data\n",
    "model = MultinomialNB().fit(X_train_tfidf, y_train)\n"
   ]
  },
  {
   "cell_type": "code",
   "execution_count": 33,
   "metadata": {},
   "outputs": [
    {
     "name": "stdout",
     "output_type": "stream",
     "text": [
      "Predictions:  ['FR' 'F' 'F' 'FR' 'F' 'FR' 'F' 'F' 'F' 'FR' 'FR' 'F' 'FR' 'F' 'F' 'FR'\n",
      " 'FR' 'NFR' 'FR' 'F' 'FR' 'FR' 'F' 'FR' 'FR' 'F' 'FR' 'FR' 'F' 'F' 'F' 'F'\n",
      " 'F' 'F' 'F' 'F' 'FR' 'PE' 'FR' 'FR' 'F' 'FR' 'F' 'FR' 'NFR' 'FR' 'F' 'FR'\n",
      " 'F' 'F' 'FR' 'FR' 'FR' 'FR' 'F' 'F' 'F' 'FR' 'F' 'FR' 'F' 'FR' 'FR' 'F'\n",
      " 'FR' 'FR' 'F' 'F' 'FR' 'F' 'FR' 'FR' 'F' 'FR' 'FR' 'FR' 'F' 'F' 'F' 'NFR'\n",
      " 'FR' 'FR' 'F' 'FR' 'F' 'F' 'FR' 'F' 'F' 'F' 'F' 'FR' 'FR' 'FR' 'F' 'FR'\n",
      " 'FR' 'F' 'FR' 'F' 'FR' 'F' 'F' 'FR' 'FR' 'F' 'F' 'FR' 'FR' 'FR' 'FR' 'FR'\n",
      " 'FR' 'FR' 'F' 'FR' 'FR' 'FR' 'FR' 'F' 'F' 'F' 'FR' 'F' 'F' 'F' 'F' 'F'\n",
      " 'FR' 'FR' 'F' 'F' 'F' 'F' 'FR' 'F' 'F' 'F' 'F' 'F' 'FR' 'FR' 'FR' 'F'\n",
      " 'FR' 'FR' 'F' 'NFR' 'FR' 'FR' 'FR' 'F' 'FR' 'F' 'US' 'F' 'F' 'FR' 'FR'\n",
      " 'F' 'F' 'FR' 'F' 'F' 'FR' 'F' 'NFR' 'FR' 'F' 'F' 'F' 'FR' 'FR' 'F' 'F'\n",
      " 'FR' 'FR' 'FR' 'FR' 'F' 'F' 'FR' 'F' 'FR' 'F' 'FR' 'FR' 'FR' 'F' 'F' 'FR'\n",
      " 'F' 'NFR' 'FR' 'FR' 'F']\n",
      "Actual:  ['FR' 'US' 'LF' 'FR' 'SC' 'FR' 'F' 'F' 'F' 'FR' 'F' 'F' 'FR' 'SE' 'LF'\n",
      " 'NFR' 'FR' 'NFR' 'PE' 'F' 'FR' 'FR' 'PE' 'NFR' 'FR' 'PE' 'FR' 'PE' 'US'\n",
      " 'F' 'US' 'FR' 'F' 'F' 'US' 'F' 'SC' 'PE' 'FR' 'FR' 'O' 'PE' 'US' 'FR'\n",
      " 'FR' 'FR' 'MN' 'NFR' 'PE' 'F' 'FR' 'FR' 'FR' 'FR' 'LF' 'SC' 'F' 'FR' 'PE'\n",
      " 'FR' 'SE' 'FR' 'NFR' 'PE' 'FR' 'US' 'F' 'L' 'US' 'F' 'FR' 'NFR' 'F' 'US'\n",
      " 'FR' 'FR' 'A' 'MN' 'PE' 'NFR' 'FR' 'FR' 'O' 'FR' 'F' 'O' 'NFR' 'F' 'FT'\n",
      " 'FT' 'SE' 'FR' 'FR' 'FR' 'F' 'FR' 'FR' 'F' 'FR' 'O' 'FR' 'A' 'F' 'NFR'\n",
      " 'FR' 'L' 'SE' 'FR' 'FR' 'FR' 'FR' 'NFR' 'FR' 'FR' 'F' 'FR' 'FR' 'NFR'\n",
      " 'FR' 'O' 'F' 'SE' 'FR' 'SC' 'US' 'LF' 'F' 'O' 'FR' 'FR' 'SE' 'F' 'O' 'F'\n",
      " 'FR' 'F' 'PE' 'F' 'SE' 'F' 'NFR' 'FR' 'FR' 'F' 'US' 'NFR' 'O' 'NFR' 'SE'\n",
      " 'FR' 'NFR' 'US' 'FR' 'SE' 'US' 'SC' 'F' 'FR' 'PE' 'F' 'O' 'FR' 'F' 'F'\n",
      " 'FR' 'F' 'NFR' 'FR' 'O' 'F' 'US' 'FR' 'FR' 'MN' 'SE' 'LF' 'FR' 'NFR'\n",
      " 'NFR' 'F' 'F' 'NFR' 'F' 'FR' 'MN' 'FR' 'FR' 'NFR' 'F' 'LF' 'FR' 'F' 'NFR'\n",
      " 'FR' 'FR' 'US']\n",
      "Accuracy: 0.57\n"
     ]
    }
   ],
   "source": [
    "# Cell 08 Predict on test data\n",
    "predictions = model.predict(X_test_tfidf)\n",
    "\n",
    "# Display the predictions and actual values\n",
    "print(\"Predictions: \", predictions)\n",
    "print(\"Actual: \", y_test.values)\n",
    "\n",
    "# Optional: Calculate accuracy\n",
    "accuracy = accuracy_score(y_test, predictions)\n",
    "print(f\"Accuracy: {accuracy:.2f}\")\n",
    "\n"
   ]
  },
  {
   "cell_type": "code",
   "execution_count": null,
   "metadata": {},
   "outputs": [],
   "source": []
  }
 ],
 "metadata": {
  "kernelspec": {
   "display_name": "Python 3",
   "language": "python",
   "name": "python3"
  },
  "language_info": {
   "codemirror_mode": {
    "name": "ipython",
    "version": 3
   },
   "file_extension": ".py",
   "mimetype": "text/x-python",
   "name": "python",
   "nbconvert_exporter": "python",
   "pygments_lexer": "ipython3",
   "version": "3.12.5"
  }
 },
 "nbformat": 4,
 "nbformat_minor": 2
}
